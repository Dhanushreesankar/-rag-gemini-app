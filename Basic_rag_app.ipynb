{
 "cells": [
  {
   "cell_type": "code",
   "execution_count": 5,
   "id": "510d372d-afef-42ff-b653-e4dfb39b5943",
   "metadata": {},
   "outputs": [
    {
     "data": {
      "text/plain": [
       "[Document(metadata={'producer': 'www.ilovepdf.com', 'creator': 'Microsoft® Word 2016', 'creationdate': '2025-04-24T08:44:31+00:00', 'author': 'python-docx', 'moddate': '2025-04-24T08:44:31+00:00', 'source': 'Technical_Concepts.pdf', 'total_pages': 5, 'page': 0, 'page_label': '1'}, page_content='Load Balancing \\nLoad balancing is the process of distributing incoming network traffic across multiple \\nservers. In real-time systems like e-commerce websites, this helps ensure no single server \\ngets overwhelmed with too many requests, maintaining performance and uptime. \\n \\nExample: A large e-commerce site like Amazon uses load balancing to direct user traffic to \\nmultiple web servers. If one server gets too many requests, the load balancer redirects \\nusers to a less busy server, ensuring faster response times and better user experience. \\nCaching \\nCaching involves storing frequently accessed data in temporary storage (RAM) for faster \\nretrieval. This reduces the load on databases and speeds up response times. \\n \\nExample: A news website like BBC stores the homepage content in cache, so when multiple \\nusers visit, it doesn’t need to query the database every time. Instead, it serves the cached \\nversion of the homepage, drastically improving loading times. \\nDatabase Sharding \\nSharding splits a large database into smaller, more manageable pieces, each stored on \\ndifferent servers. This helps in handling large-scale data growth. \\n \\nExample: A social media platform like Facebook uses sharding to manage billions of users. \\nThe user database is divided into shards based on user ID ranges, allowing efficient data \\nstorage and quick access. \\nReplication \\nReplication involves copying data from one server (master) to others (replicas). This \\nensures data availability and reduces the risk of downtime. \\n \\nExample: Google’s search service has multiple replicas of its index spread across data \\ncenters worldwide. If one data center goes down, traffic is automatically rerouted to other \\ncenters with replicas. \\nCAP Theorem \\nThe CAP theorem states that in a distributed system, only two out of three guarantees can \\nbe provided: Consistency, Availability, and Partition Tolerance. \\n \\nExample: In an online banking system, you might prioritize **Consistency** (accurate'),\n",
       " Document(metadata={'producer': 'www.ilovepdf.com', 'creator': 'Microsoft® Word 2016', 'creationdate': '2025-04-24T08:44:31+00:00', 'author': 'python-docx', 'moddate': '2025-04-24T08:44:31+00:00', 'source': 'Technical_Concepts.pdf', 'total_pages': 5, 'page': 1, 'page_label': '2'}, page_content='balances) over **Availability** during network partitioning, so users may be unable to \\naccess their accounts temporarily but can be assured of consistent data. \\nConsistent Hashing \\nConsistent hashing is used to distribute data across multiple nodes with minimal data \\nmovement when nodes are added or removed. \\n \\nExample: In distributed caching systems like **Memcached**, when a server is added or \\nremoved, consistent hashing ensures that only a few keys need to be moved to new servers, \\nreducing overhead. \\nMessage Queues \\nMessage queues decouple services by enabling asynchronous communication. Services send \\nmessages to the queue, and consumers process them at their own pace. \\n \\nExample: In an online payment gateway, when a user places an order, the payment \\nprocessing service sends a message to a queue. The queue decouples the order service from \\nthe payment service, allowing smoother processing even during high traffic times. \\nRate Limiting \\nRate limiting controls the number of requests a client can make to an API in a given time \\nwindow, helping to prevent abuse and system overload. \\n \\nExample: Twitter limits how many requests an app can make to their API per minute. If an \\napp exceeds this limit, it receives a **429 Too Many Requests** error, ensuring that the \\nplatform remains responsive to other users. \\nAPI Gateway \\nAn API Gateway is a server that acts as an entry point to a system, routing requests to \\nappropriate microservices, handling authentication, and aggregating responses. \\n \\nExample: Netflix uses an API Gateway to handle requests for content, authentication, and \\nuser preferences. It routes requests to the correct microservices, ensuring that the platform \\nruns smoothly at scale. \\nMicroservices \\nMicroservices architecture divides an application into smaller, independent services that \\ncommunicate with each other over a network.'),\n",
       " Document(metadata={'producer': 'www.ilovepdf.com', 'creator': 'Microsoft® Word 2016', 'creationdate': '2025-04-24T08:44:31+00:00', 'author': 'python-docx', 'moddate': '2025-04-24T08:44:31+00:00', 'source': 'Technical_Concepts.pdf', 'total_pages': 5, 'page': 2, 'page_label': '3'}, page_content=\"Example: Uber’s system is built with microservices. For example, the **ride-hailing \\nservice**, **payment service**, and **notification service** are independent services. This \\nenables easy scaling and isolated development for each service. \\nService Discovery \\nService discovery allows microservices to find and communicate with each other \\ndynamically, even if their locations change. \\n \\nExample: In Kubernetes, when a new pod (container) is created, the service discovery \\nmechanism allows other pods to discover and communicate with it automatically, ensuring \\nseamless interaction. \\nCDNs (Content Delivery Networks) \\nCDNs deliver content from edge servers located closer to the end users, reducing latency \\nand speeding up delivery. \\n \\nExample: YouTube uses a CDN to serve video content from servers located near the user's \\nregion. This ensures fast loading times, even if the video is streamed by millions of users \\nglobally. \\nDB Indexing \\nDatabase indexing speeds up query performance by creating indexes on columns that are \\nfrequently searched, reducing the time spent searching large tables. \\n \\nExample: An online store uses indexing on the **Product Name** and **Category** fields to \\nquickly find products when users search. Without indexing, the database would need to \\nscan every row to find the products. \\nPartitioning \\nPartitioning involves dividing data into smaller, more manageable segments, which can be \\ndistributed across multiple nodes. \\n \\nExample: A large e-commerce site like Amazon partitions its product catalog based on \\ncategories. Each category has its own partition, improving database performance when \\nsearching for specific products. \\nEventual Consistency \\nEventual consistency ensures that all nodes in a distributed system will eventually have the \\nsame data, but they may not be consistent at all times.\"),\n",
       " Document(metadata={'producer': 'www.ilovepdf.com', 'creator': 'Microsoft® Word 2016', 'creationdate': '2025-04-24T08:44:31+00:00', 'author': 'python-docx', 'moddate': '2025-04-24T08:44:31+00:00', 'source': 'Technical_Concepts.pdf', 'total_pages': 5, 'page': 3, 'page_label': '4'}, page_content='Example: In Amazon’s shopping cart system, if a product is added to the cart on one device, \\nit may not immediately appear on other devices. However, within a few seconds, all devices \\nwill reflect the correct state. \\nWebSockets \\nWebSockets provide a full-duplex communication channel over a single, long-lived \\nconnection. This is ideal for applications that require real-time updates. \\n \\nExample: In online multiplayer games, WebSockets are used to send and receive data like \\nplayer movements in real time, ensuring a smooth gaming experience. \\nAuthN & AuthZ \\nAuthentication (AuthN) is the process of verifying the identity of a user, while Authorization \\n(AuthZ) determines what actions a user is allowed to perform. \\n \\nExample: When logging into a banking app, the app checks your identity (AuthN) and grants \\naccess to your account (AuthZ), but restricts access to other users’ accounts. \\nMonitoring \\nMonitoring tracks system health, performance, and usage by collecting metrics and logs \\nfrom various components. \\n \\nExample: A cloud-hosted app uses **Prometheus** to monitor server performance. If the \\nCPU usage exceeds a threshold, an alert is triggered, and the team can take action before the \\nsystem crashes. \\nFault Tolerance \\nFault tolerance ensures that a system continues to operate despite failures in hardware or \\nsoftware. It typically involves using redundancy and failover mechanisms. \\n \\nExample: Google’s email service Gmail uses fault tolerance by having multiple data centers \\nwith replicated servers. If one server fails, another takes over without affecting user access. \\nScalability \\nScalability allows a system to handle increased load by adding resources. It can be achieved \\nthrough vertical scaling (adding more power to a single machine) or horizontal scaling \\n(adding more machines).'),\n",
       " Document(metadata={'producer': 'www.ilovepdf.com', 'creator': 'Microsoft® Word 2016', 'creationdate': '2025-04-24T08:44:31+00:00', 'author': 'python-docx', 'moddate': '2025-04-24T08:44:31+00:00', 'source': 'Technical_Concepts.pdf', 'total_pages': 5, 'page': 4, 'page_label': '5'}, page_content='Example: When Netflix faces increased demand for streaming, it automatically adds more \\nservers (horizontal scaling) to handle the load, ensuring smooth service during peak times.')]"
      ]
     },
     "execution_count": 5,
     "metadata": {},
     "output_type": "execute_result"
    }
   ],
   "source": [
    "from langchain_community.document_loaders import PyPDFLoader\n",
    "\n",
    "loader = PyPDFLoader(\"Technical_Concepts.pdf\")\n",
    "data = loader.load()  # entire PDF is loaded as a single Document\n",
    "data"
   ]
  },
  {
   "cell_type": "code",
   "execution_count": 6,
   "id": "43d9fb43-b6ab-49c8-a4ef-146944b760bf",
   "metadata": {},
   "outputs": [
    {
     "data": {
      "text/plain": [
       "5"
      ]
     },
     "execution_count": 6,
     "metadata": {},
     "output_type": "execute_result"
    }
   ],
   "source": [
    "len(data)"
   ]
  },
  {
   "cell_type": "code",
   "execution_count": 7,
   "id": "1d46d53f-d99e-4790-8465-e584e217c85a",
   "metadata": {},
   "outputs": [
    {
     "name": "stdout",
     "output_type": "stream",
     "text": [
      "Total number of documents:  13\n"
     ]
    }
   ],
   "source": [
    "from langchain.text_splitter import RecursiveCharacterTextSplitter\n",
    "\n",
    "# split data\n",
    "text_splitter = RecursiveCharacterTextSplitter(chunk_size=1000)\n",
    "docs = text_splitter.split_documents(data)\n",
    "\n",
    "\n",
    "print(\"Total number of documents: \",len(docs))"
   ]
  },
  {
   "cell_type": "code",
   "execution_count": 4,
   "id": "9c1be87f-fd68-46d2-b2df-5412dc41fc25",
   "metadata": {},
   "outputs": [
    {
     "data": {
      "text/plain": [
       "Document(metadata={'producer': 'www.ilovepdf.com', 'creator': 'Microsoft® Word 2016', 'creationdate': '2025-04-24T08:44:31+00:00', 'author': 'python-docx', 'moddate': '2025-04-24T08:44:31+00:00', 'source': 'Technical_Concepts.pdf', 'total_pages': 5, 'page': 2, 'page_label': '3'}, page_content='region. This ensures fast loading times, even if the video is streamed by millions of users \\nglobally. \\nDB Indexing \\nDatabase indexing speeds up query performance by creating indexes on columns that are \\nfrequently searched, reducing the time spent searching large tables. \\n \\nExample: An online store uses indexing on the **Product Name** and **Category** fields to \\nquickly find products when users search. Without indexing, the database would need to \\nscan every row to find the products. \\nPartitioning \\nPartitioning involves dividing data into smaller, more manageable segments, which can be \\ndistributed across multiple nodes. \\n \\nExample: A large e-commerce site like Amazon partitions its product catalog based on \\ncategories. Each category has its own partition, improving database performance when \\nsearching for specific products. \\nEventual Consistency \\nEventual consistency ensures that all nodes in a distributed system will eventually have the')"
      ]
     },
     "execution_count": 4,
     "metadata": {},
     "output_type": "execute_result"
    }
   ],
   "source": [
    "docs[7]"
   ]
  },
  {
   "cell_type": "code",
   "execution_count": null,
   "id": "5103eeb4-55c5-4ad5-a0f6-f4f00d4f22f3",
   "metadata": {},
   "outputs": [],
   "source": []
  }
 ],
 "metadata": {
  "kernelspec": {
   "display_name": "Python 3 (ipykernel)",
   "language": "python",
   "name": "python3"
  },
  "language_info": {
   "codemirror_mode": {
    "name": "ipython",
    "version": 3
   },
   "file_extension": ".py",
   "mimetype": "text/x-python",
   "name": "python",
   "nbconvert_exporter": "python",
   "pygments_lexer": "ipython3",
   "version": "3.13.0"
  }
 },
 "nbformat": 4,
 "nbformat_minor": 5
}
